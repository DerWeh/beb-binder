{
 "cells": [
  {
   "cell_type": "code",
   "execution_count": null,
   "metadata": {},
   "outputs": [],
   "source": [
    "import gftool as gt\n",
    "import numpy as np\n",
    "import matplotlib.pyplot as plt\n",
    "\n",
    "%matplotlib inline"
   ]
  },
  {
   "cell_type": "markdown",
   "metadata": {},
   "source": [
    "# BEB algorithm for nonlocal disorder\n",
    "\n",
    "The *BEB* [1,2] algorithm is an extension of *CPA* to include nonocal disorder;\n",
    "that is, the hopping parameters depend on the components.\n",
    "\n",
    "We combined the *BEB* algorithm with *DMFT* in the same fashion as *CPA+DMFT*.\n",
    "While the *DMFT* part is very heavy, the disorder part can be easily computed.\n",
    "\n",
    "This notebook can be used to play around with *BEB* using the algorithm given in [3].\n",
    "It is given in the Python package `gftool`, you can find the documentation on [ReadTheDocs](https://gftools.readthedocs.io/en/stable/generated/gftool.beb.html).\n",
    "\n",
    "[1] J. A. Blackman, D. M. Esterling, and N. F. Berk,\n",
    "Phys. Rev. B **4**, 2412 (1971).  \n",
    "DOI: [10.1103/PhysRevB.4.2412](https://doi.org/10.1103/PhysRevB.4.2412)\n",
    "\n",
    "[2] D. M. Esterling,\n",
    "Phys. Rev. B **12**, 1596 (1975).  \n",
    "DOI: [10.1103/PhysRevB.12.1596](https://doi.org/10.1103/PhysRevB.12.1596)\n",
    "\n",
    "[3] A. Weh, Y. Zhang, A. Östlin, H. Terletska, D. Bauernfeind, K.-M. Tam, H. G. Evertz, K. Byczuk, D. Vollhardt, and L. Chioncel,\n",
    "Phys. Rev. B **104**, 045127  \n",
    "DOI: [10.1103/PhysRevB.104.045127](https://doi.org/10.1103/PhysRevB.104.045127)\n",
    "\n",
    "\n",
    "## Required parameters\n",
    "\n",
    "The model is defined using the following parameters:\n",
    "\n",
    "* `e_onsite`: The on-site energies $\\underline{v}^\\alpha$ of the components $\\alpha$.\n",
    "\n",
    "* `concentration`: The concentrations $c^\\alpha$ of the components $\\alpha$.\n",
    "\n",
    "* `hopping`: The dimensionless hopping parameters $\\underline{T}^{\\alpha\\beta}$ describing the hopping between components $\\alpha$ and $\\beta$.\n",
    "\n",
    "* `hilbert_trafo`: The lattice Hilbert transformation of the lattice $$g_0(z) = \\frac{1}{N} \\sum_k \\frac{1}{z - \\epsilon_k} = \\int d\\epsilon \\frac{1}{z - \\epsilon}$$\n",
    "\n",
    "Furthermore, we have to specify the frequencies, `z`, at which we evaluate the function.\n",
    "To avoid singularities and branch cuts, the imaginary part `z.imag` should be finite.\n",
    "\n",
    "Let's do an example calculation:"
   ]
  },
  {
   "cell_type": "code",
   "execution_count": null,
   "metadata": {},
   "outputs": [],
   "source": [
    "from functools import partial  # partial fixes input arguements of a function\n",
    "\n",
    "# Parameters of the setup\n",
    "e_onsite = np.array([0.0, 0.3])\n",
    "concentration = np.array([0.9, 0.1])\n",
    "hopping = np.array([[1.0, 1.5],\n",
    "                    [1.5, 1.0]])\n",
    "hilbert_trafo = partial(gt.lattice.bethe.hilbert_transform, half_bandwidth=1.0)\n",
    "\n",
    "# let's evaluate it on a contour parallel to the real axis.\n",
    "ww = np.linspace(-4.0, 4.0, num=301) + 1e-6j"
   ]
  },
  {
   "cell_type": "markdown",
   "metadata": {},
   "source": [
    "First, we self-consistently calculate the effective medium $\\underline{S}^{\\alpha\\beta}$:"
   ]
  },
  {
   "cell_type": "code",
   "execution_count": null,
   "metadata": {},
   "outputs": [],
   "source": [
    "self_beb = gt.beb.solve_root(\n",
    "    ww, e_onsite, concentration,\n",
    "    hopping=hopping, hilbert_trafo=hilbert_trafo,\n",
    ")"
   ]
  },
  {
   "cell_type": "markdown",
   "metadata": {},
   "source": [
    "With the effective medium, we can calculate the effective local Green's function $\\underline{g}_\\mathrm{loc}^{\\alpha\\alpha}$"
   ]
  },
  {
   "cell_type": "code",
   "execution_count": null,
   "metadata": {},
   "outputs": [],
   "source": [
    "gf_loc = gt.beb.gf_loc_z(ww, self_beb, hopping=hopping, hilbert_trafo=hilbert_trafo)\n",
    "\n",
    "plt.plot(ww.real, -1/np.pi*gf_loc[:, 0].imag, label=r\"$\\alpha=$A\")\n",
    "plt.plot(ww.real, -1/np.pi*gf_loc[:, 1].imag, label=r\"$\\alpha=$B\")\n",
    "plt.xlim(ww.real.min(), ww.real.max())\n",
    "plt.ylabel(r\"A̲$^\\alpha$\")\n",
    "plt.tight_layout()\n",
    "plt.legend()\n",
    "plt.show()"
   ]
  },
  {
   "cell_type": "markdown",
   "metadata": {},
   "source": [
    "The components of the effective local Green's $\\underline{g}_\\mathrm{loc}^{\\alpha\\alpha}$ function are the conditional expectation value times the corresponding concentration.\n",
    "Thus, these Green's functions components are normalized to the concentration $c^\\alpha$ and not to $1$.\n",
    "\n",
    "The average Green's function is just the sum or components, $\\mathbb{E}(G) = \\sum_\\alpha \\underline{g}_\\mathrm{loc}^{\\alpha\\alpha}$:"
   ]
  },
  {
   "cell_type": "code",
   "execution_count": null,
   "metadata": {},
   "outputs": [],
   "source": [
    "plt.plot(ww.real, -1/np.pi*gf_loc.sum(axis=-1).imag)\n",
    "plt.xlim(ww.real.min(), ww.real.max())\n",
    "plt.ylabel(r\"$\\mathbb{E}(A)$\")\n",
    "plt.tight_layout()\n",
    "plt.show()"
   ]
  },
  {
   "cell_type": "markdown",
   "metadata": {},
   "source": [
    "Of course, we are not restricted to only two components or a Bethe lattice, available lattices can be listed with the following command:"
   ]
  },
  {
   "cell_type": "code",
   "execution_count": null,
   "metadata": {},
   "outputs": [],
   "source": [
    "[lat for lat in dir(gt.lattice) if not lat.startswith('__')]"
   ]
  },
  {
   "cell_type": "markdown",
   "metadata": {},
   "source": [
    "Depending on the problem, the self-consistency `gt.beb.solve_root` might be slow.\n",
    "To show additional output, enable the logger on the desired level (this might however be verbose)."
   ]
  },
  {
   "cell_type": "code",
   "execution_count": null,
   "metadata": {},
   "outputs": [],
   "source": [
    "# import logging\n",
    "\n",
    "# logging.basicConfig()\n",
    "# # logging.getLogger('gftool').setLevel(logging.INFO)\n",
    "# # logging.getLogger('gftool').setLevel(logging.DEBUG)"
   ]
  }
 ],
 "metadata": {
  "kernelspec": {
   "display_name": "beb",
   "language": "python",
   "name": "beb"
  },
  "language_info": {
   "codemirror_mode": {
    "name": "ipython",
    "version": 3
   },
   "file_extension": ".py",
   "mimetype": "text/x-python",
   "name": "python",
   "nbconvert_exporter": "python",
   "pygments_lexer": "ipython3",
   "version": "3.9.7"
  }
 },
 "nbformat": 4,
 "nbformat_minor": 2
}
